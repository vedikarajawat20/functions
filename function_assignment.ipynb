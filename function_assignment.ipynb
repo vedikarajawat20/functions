{
  "nbformat": 4,
  "nbformat_minor": 0,
  "metadata": {
    "colab": {
      "provenance": []
    },
    "kernelspec": {
      "name": "python3",
      "display_name": "Python 3"
    },
    "language_info": {
      "name": "python"
    }
  },
  "cells": [
    {
      "cell_type": "markdown",
      "source": [
        "1. What is the difference between a function and a method in Python?"
      ],
      "metadata": {
        "id": "SWlafA2DuZH-"
      }
    },
    {
      "cell_type": "markdown",
      "source": [
        "In Python, the terms function and method are related but have different meanings. Here's a breakdown of the difference:\n",
        "\n",
        "1. Function:\n",
        "A function is a block of reusable code that performs a specific task. It can be defined using the def keyword and can be called independently (without being tied to an object).\n",
        "\n",
        "A function is not associated with a particular object or class, but it can operate on arguments passed to it.\n"
      ],
      "metadata": {
        "id": "blAVGJ3DwcdB"
      }
    },
    {
      "cell_type": "code",
      "source": [
        "def greet(name):\n",
        "    return f\"Hello, {name}!\"\n",
        "\n",
        "print(greet(\"Alice\"))  # Calling the function\n"
      ],
      "metadata": {
        "id": "YhvcE9AMwzzz"
      },
      "execution_count": null,
      "outputs": []
    },
    {
      "cell_type": "markdown",
      "source": [
        "2. Method:\n",
        "A method is a function that is associated with an object, often defined inside a class. Methods are functions that act on instances (or the class itself) and typically access or modify the object’s attributes.\n",
        "\n",
        "The key difference is that a method is always tied to an object or class, and it operates on that object. When you call a method, the object itself is passed as the first argument (commonly referred to as self)."
      ],
      "metadata": {
        "id": "dZVlcBK2w9Am"
      }
    },
    {
      "cell_type": "code",
      "source": [
        "class Greeter:\n",
        "    def __init__(self, name):\n",
        "        self.name = name\n",
        "\n",
        "    def greet(self):\n",
        "        return f\"Hello, {self.name}!\"\n",
        "\n",
        "g = Greeter(\"Bob\")\n",
        "print(g.greet())  # Calling the method (associated with object 'g')\n"
      ],
      "metadata": {
        "id": "0Qxwtmuzw-MJ"
      },
      "execution_count": null,
      "outputs": []
    },
    {
      "cell_type": "markdown",
      "source": [
        "2. Explain the concept of function arguments and parameters in Python."
      ],
      "metadata": {
        "id": "V8Chg58_xBvK"
      }
    },
    {
      "cell_type": "markdown",
      "source": [
        "In Python, function arguments and parameters are two closely related concepts. They refer to the values used in a function call and function definition, respectively. Let's break them down:\n",
        "\n",
        "1. Function Parameters:\n",
        "Parameters are the names defined in the function signature (i.e., when you define a function). These are the placeholders that will receive values when the function is called.\n",
        "\n",
        "Parameters are variables that you define in the function definition to accept input.\n"
      ],
      "metadata": {
        "id": "0_GocmlqxR_B"
      }
    },
    {
      "cell_type": "code",
      "source": [
        "def greet(name):  # 'name' is a parameter\n",
        "    print(f\"Hello, {name}!\")\n"
      ],
      "metadata": {
        "id": "m3CPb6ytxUIj"
      },
      "execution_count": null,
      "outputs": []
    },
    {
      "cell_type": "markdown",
      "source": [
        "2. Function Arguments:\n",
        "Arguments are the actual values passed to the function when you call it. These values are assigned to the corresponding parameters in the function definition.\n",
        "\n",
        "Arguments are the real data you give to the function so that it can operate on it."
      ],
      "metadata": {
        "id": "hgbcEFAvxXEl"
      }
    },
    {
      "cell_type": "code",
      "source": [
        "greet(\"Alice\")  # \"Alice\" is the argument\n"
      ],
      "metadata": {
        "id": "Kt61tt52xlsb"
      },
      "execution_count": null,
      "outputs": []
    },
    {
      "cell_type": "markdown",
      "source": [
        "3. What are the different ways to define and call a function in Python?"
      ],
      "metadata": {
        "id": "OjCwaJHNxpCC"
      }
    },
    {
      "cell_type": "markdown",
      "source": [
        "In Python, you can define and call functions in various ways. Let’s explore the different approaches for both defining and calling functions:\n",
        "\n",
        "1. Defining a Simple Function:\n",
        "This is the most basic way to define a function, where you use the def keyword followed by the function name, parameters (optional), and the function body.\n"
      ],
      "metadata": {
        "id": "3s8mRejtx1r9"
      }
    },
    {
      "cell_type": "code",
      "source": [
        "def greet():\n",
        "    print(\"Hello, World!\")\n"
      ],
      "metadata": {
        "id": "sHYCoDq3x3Yd"
      },
      "execution_count": null,
      "outputs": []
    },
    {
      "cell_type": "markdown",
      "source": [
        "2. Defining a Function with Parameters:\n",
        "You can define functions with parameters so that they can accept values when called.\n"
      ],
      "metadata": {
        "id": "Cw4UwtKwx_mD"
      }
    },
    {
      "cell_type": "code",
      "source": [
        "def greet(name):\n",
        "    print(f\"Hello, {name}!\")\n"
      ],
      "metadata": {
        "id": "bdzZk65DyFaO"
      },
      "execution_count": null,
      "outputs": []
    },
    {
      "cell_type": "markdown",
      "source": [
        "3. Defining a Function with a Return Value:\n",
        "Functions can return values using the return keyword."
      ],
      "metadata": {
        "id": "o1bShjWGyLKq"
      }
    },
    {
      "cell_type": "code",
      "source": [
        "def add(a, b):\n",
        "    return a + b\n"
      ],
      "metadata": {
        "id": "9yS7tzW-yOqI"
      },
      "execution_count": null,
      "outputs": []
    },
    {
      "cell_type": "markdown",
      "source": [
        "4. Function with Default Parameters:\n",
        "You can assign default values to parameters. If no argument is passed during the function call, the default value will be used."
      ],
      "metadata": {
        "id": "SzmApWMOyVn8"
      }
    },
    {
      "cell_type": "code",
      "source": [
        "def greet(name, age=30):  # 'age' has a default value\n",
        "    print(f\"Hello {name}, you are {age} years old.\")\n"
      ],
      "metadata": {
        "id": "kQO4UyuTyW94"
      },
      "execution_count": null,
      "outputs": []
    },
    {
      "cell_type": "markdown",
      "source": [
        "5. Calling a Function with Positional Arguments:\n",
        "Arguments passed to a function are assigned to parameters in the order they appear (based on the position)."
      ],
      "metadata": {
        "id": "RetzO8OZytRe"
      }
    },
    {
      "cell_type": "code",
      "source": [
        "def greet(name, age):\n",
        "    print(f\"Hello {name}, you are {age} years old.\")\n"
      ],
      "metadata": {
        "id": "-2JOB8-Wy1mD"
      },
      "execution_count": null,
      "outputs": []
    },
    {
      "cell_type": "markdown",
      "source": [
        "4. What is the purpose of the `return` statement in a Python function?"
      ],
      "metadata": {
        "id": "uvDzMdgsy7Jh"
      }
    },
    {
      "cell_type": "markdown",
      "source": [
        "The return statement in a Python function is used to exit the function and send a result back to the caller. It allows the function to produce a value (or multiple values) that can be used outside of the function. The primary purpose of return is to provide the result of a function's execution, making it possible to perform calculations or return data that can be used later in the program.\n",
        "\n",
        "Key Points about the return Statement:\n",
        "Exits the Function:\n",
        "\n",
        "When a return statement is executed, the function terminates immediately, and any code after the return statement is not executed.\n",
        "\n",
        "Returns a Value:\n",
        "\n",
        "The value specified after return is sent back to the caller. This value can be of any data type (e.g., number, string, list, etc.).\n",
        "\n",
        "Optional:\n",
        "\n",
        "The return statement is optional. If no return is specified, the function will return None by default.\n",
        "\n",
        "Returning Multiple Values:\n",
        "\n",
        "You can return multiple values by separating them with commas. Python will return these as a tuple."
      ],
      "metadata": {
        "id": "zr04lmbXzMN9"
      }
    },
    {
      "cell_type": "code",
      "source": [
        "def add(a, b):\n",
        "    return a + b  # Return the sum of a and b\n",
        "\n",
        "result = add(5, 3)  # The function returns 8\n",
        "print(result)  # Output: 8\n"
      ],
      "metadata": {
        "id": "T9nMpK1uzhH-"
      },
      "execution_count": null,
      "outputs": []
    },
    {
      "cell_type": "markdown",
      "source": [
        "5. What are iterators in Python and how do they differ from iterables?"
      ],
      "metadata": {
        "id": "BuM70MMqzkmX"
      }
    },
    {
      "cell_type": "markdown",
      "source": [
        "In Python, iterables and iterators are both concepts related to sequences of data, but they have distinct roles and behaviors. Let’s break them down and understand the difference.\n",
        "\n",
        "1. Iterable:\n",
        "An iterable is any Python object that can return an iterator. This means it is an object that supports the __iter__() method, which allows it to be iterated over (looped through) in a for loop or through other iteration techniques.\n",
        "\n",
        "An iterable can be anything that holds a collection of items, such as:\n",
        "\n",
        "Lists\n",
        "\n",
        "Tuples\n",
        "\n",
        "Strings\n",
        "\n",
        "Dictionaries\n",
        "\n",
        "Sets\n",
        "\n",
        "These objects can be iterated over, meaning you can access each element in a sequence one by one.\n",
        "\n"
      ],
      "metadata": {
        "id": "1PbjzOMWzyOx"
      }
    },
    {
      "cell_type": "code",
      "source": [
        "my_list = [1, 2, 3, 4]\n",
        "\n",
        "# Using a for loop, which implicitly uses an iterator\n",
        "for item in my_list:\n",
        "    print(item)\n"
      ],
      "metadata": {
        "id": "RxYrKsUXz0jM"
      },
      "execution_count": null,
      "outputs": []
    },
    {
      "cell_type": "markdown",
      "source": [
        "2. Iterator:\n",
        "An iterator is an object that represents a stream of data. It is an object that produces the next item in a sequence when you call the __next__() method on it. An iterator keeps track of the current position in the sequence, so each time you call __next__(), it returns the next element in the sequence and moves forward.\n",
        "\n",
        "An iterator must implement two methods:\n",
        "\n",
        "__iter__(): This method returns the iterator object itself.\n",
        "\n",
        "__next__(): This method returns the next item from the iterable. If there are no more items to return, it raises the StopIteration exception."
      ],
      "metadata": {
        "id": "QRrprup6z4OA"
      }
    },
    {
      "cell_type": "markdown",
      "source": [
        "my_list = [1, 2, 3, 4]\n",
        "iterator = iter(my_list)  # Get the iterator from the iterable\n",
        "\n",
        "print(next(iterator))  # Output: 1\n",
        "print(next(iterator))  # Output: 2\n",
        "print(next(iterator))  # Output: 3\n",
        "print(next(iterator))  # Output: 4\n",
        "print(next(iterator))  # Raises StopIteration because there are no more items\n"
      ],
      "metadata": {
        "id": "GczBoYic0FPK"
      }
    },
    {
      "cell_type": "markdown",
      "source": [
        "6. Explain the concept of generators in Python and how they are defined."
      ],
      "metadata": {
        "id": "_cDF0xkx0Jno"
      }
    },
    {
      "cell_type": "markdown",
      "source": [
        "In Python, a generator is a special type of iterator that allows you to iterate over a sequence of values lazily, meaning it produces values one at a time as you need them, rather than storing the entire sequence in memory all at once. This can be particularly useful when dealing with large datasets or when you need to optimize memory usage.\n",
        "\n",
        "How Generators Work:\n",
        "Lazy Evaluation: Generators don't generate all their values at once. Instead, they yield each value one by one, which helps in saving memory.\n",
        "\n",
        "State Preservation: Generators maintain their state between each iteration. This means that the function doesn't start over each time you request the next value, but rather picks up right where it left off.\n",
        "\n",
        "Defining a Generator:\n",
        "There are two main ways to define a generator in Python:\n",
        "\n",
        "Using a function with the yield keyword: The yield keyword is what turns a normal function into a generator. When yield is called, the state of the function is saved, and the value is returned to the caller. The next time the generator is iterated over, it picks up right where it left off.\n",
        "\n",
        "Here's an example of how you can define a simple generator using yield:\n",
        "\n"
      ],
      "metadata": {
        "id": "BK_k17hy0hDC"
      }
    },
    {
      "cell_type": "code",
      "source": [
        "def countdown(start):\n",
        "    while start > 0:\n",
        "        yield start\n",
        "        start -= 1\n"
      ],
      "metadata": {
        "id": "cP1-is-c0__m"
      },
      "execution_count": null,
      "outputs": []
    },
    {
      "cell_type": "markdown",
      "source": [
        "7. What are the advantages of using generators over regular functions?"
      ],
      "metadata": {
        "id": "EBOMumEa1FS5"
      }
    },
    {
      "cell_type": "markdown",
      "source": [
        "Generators offer several advantages over regular functions in Python, especially when working with large datasets or when optimizing for performance. Here's a breakdown of the key advantages:\n",
        "\n",
        "1. Memory Efficiency:\n",
        "Regular functions typically return all the results at once, often in the form of a list, which means that the entire sequence is stored in memory. This can be problematic if you're working with a large dataset.\n",
        "\n",
        "Generators, on the other hand, produce values one at a time, lazily. They don't store the entire sequence in memory, making them much more memory-efficient, particularly when dealing with large sequences or streams of data."
      ],
      "metadata": {
        "id": "34YOiwJm1Qvd"
      }
    },
    {
      "cell_type": "code",
      "source": [
        "def create_large_list():\n",
        "    return [i for i in range(1000000)]\n"
      ],
      "metadata": {
        "id": "g5fY5fT_1Rzc"
      },
      "execution_count": null,
      "outputs": []
    },
    {
      "cell_type": "code",
      "source": [
        "def generate_large_numbers():\n",
        "    for i in range(1000000):\n",
        "        yield i\n"
      ],
      "metadata": {
        "id": "rN-aU6yq1Yz3"
      },
      "execution_count": null,
      "outputs": []
    },
    {
      "cell_type": "markdown",
      "source": [
        "2. Improved Performance with Large Datasets:\n",
        "Generators are particularly useful when working with large datasets or infinite sequences because they only compute and yield the next value when requested, rather than computing and storing everything upfront.\n",
        "\n",
        "This lazy evaluation approach helps avoid unnecessary computations and speeds up programs when processing large or unknown amounts of data.\n",
        "\n",
        "Example: When reading a large file line-by-line using a generator, you can process each line as it’s read without loading the entire file into memory"
      ],
      "metadata": {
        "id": "idiFVeYX1eJB"
      }
    },
    {
      "cell_type": "code",
      "source": [
        "def read_large_file(file_name):\n",
        "    with open(file_name, 'r') as file:\n",
        "        for line in file:\n",
        "            yield line.strip()  # Yielding each line as it’s read\n"
      ],
      "metadata": {
        "id": "d2e3ILvP1e8U"
      },
      "execution_count": null,
      "outputs": []
    },
    {
      "cell_type": "markdown",
      "source": [
        "3. State Preservation:\n",
        "In regular functions, each time a function is called, it starts execution from the beginning, and it doesn’t preserve its state (unless explicitly stored).\n",
        "\n",
        "Generators, however, maintain their internal state between calls. This means that a generator remembers where it left off in its execution, allowing it to resume and yield the next value without re-running the function from scratch.\n",
        "\n",
        "This feature makes generators well-suited for situations where you need to process data in steps, such as simulating a sequence of operations or traversing large datasets in parts.\n"
      ],
      "metadata": {
        "id": "kPwNqI8y1nFK"
      }
    },
    {
      "cell_type": "markdown",
      "source": [
        "4. Handling Infinite Sequences:\n",
        "Regular functions that return a list cannot handle infinite sequences because the entire sequence must be generated and stored in memory, which is impossible for infinite sequences.\n",
        "\n",
        "Generators are perfect for generating and working with infinite sequences since they only produce values when requested and do not need to store the entire sequence at once.\n",
        "\n",
        "Example: A simple infinite sequence of numbers can be created with a generator:\n",
        "\n"
      ],
      "metadata": {
        "id": "WLuG-kdc1o0n"
      }
    },
    {
      "cell_type": "code",
      "source": [
        "def infinite_numbers():\n",
        "    i = 0\n",
        "    while True:\n",
        "        yield i\n",
        "        i += 1\n"
      ],
      "metadata": {
        "id": "qTnSuEvH15Ja"
      },
      "execution_count": null,
      "outputs": []
    },
    {
      "cell_type": "markdown",
      "source": [
        "8. What is a lambda function in Python and when is it typically used?"
      ],
      "metadata": {
        "id": "kRSz6Yr71_h-"
      }
    },
    {
      "cell_type": "markdown",
      "source": [
        "A lambda function in Python is a small anonymous function, defined using the lambda keyword. It can take any number of arguments but can only have a single expression. Unlike regular functions defined with def, lambda functions are typically used when you need a simple, throwaway function for a short period of time.\n",
        "\n",
        "Syntax of a Lambda Function"
      ],
      "metadata": {
        "id": "O26Wo0Y32Pbs"
      }
    },
    {
      "cell_type": "code",
      "source": [
        "lambda arguments: expression\n"
      ],
      "metadata": {
        "id": "ufdGl4iu2Siq"
      },
      "execution_count": null,
      "outputs": []
    },
    {
      "cell_type": "markdown",
      "source": [
        "9. Explain the purpose and usage of the `map()` function in Python."
      ],
      "metadata": {
        "id": "uIHUbkg62bjd"
      }
    },
    {
      "cell_type": "markdown",
      "source": [
        "The map() function in Python is a built-in higher-order function that allows you to apply a specified function to all items in an iterable (like a list, tuple, etc.) and return a new iterable (in Python 3, it returns an iterator). This is particularly useful when you want to perform a transformation or operation on each element in a collection without using explicit loops.\n",
        "\n",
        "Purpose of map():\n",
        "The main purpose of the map() function is to apply a given function to all items in an iterable and return a map object (which is an iterator). This allows you to transform the elements of a sequence in a concise and functional way.\n",
        "\n",
        "Syntax of map():"
      ],
      "metadata": {
        "id": "FuWGbs2c2kVN"
      }
    },
    {
      "cell_type": "code",
      "source": [
        "map(function, iterable, ...)\n"
      ],
      "metadata": {
        "id": "0L36oR0D2loj"
      },
      "execution_count": null,
      "outputs": []
    },
    {
      "cell_type": "markdown",
      "source": [
        "10. What is the difference between `map()`, `reduce()`, and `filter()` functions in Python?"
      ],
      "metadata": {
        "id": "4Xa9-lJ12pw4"
      }
    },
    {
      "cell_type": "markdown",
      "source": [
        "In Python, the map(), reduce(), and filter() functions are all built-in higher-order functions that allow you to process iterables (like lists, tuples, etc.) in a functional programming style. Although they are similar in that they all take a function and an iterable (or multiple iterables) as arguments, they each serve a different purpose and operate in different ways.\n",
        "\n",
        "1. map() Function:\n",
        "Purpose: The map() function is used to apply a function to each item in an iterable (or iterables), and returns a new iterable (map object) with the results of applying the function.\n",
        "\n",
        "Behavior: It transforms the elements of the iterable(s) by applying the function to them.\n",
        "\n",
        "Return: It returns an iterator (in Python 3), which can be converted to a list or another iterable type.\n",
        "\n"
      ],
      "metadata": {
        "id": "zUxznEh02uyO"
      }
    },
    {
      "cell_type": "code",
      "source": [
        "# Function to square a number\n",
        "def square(x):\n",
        "    return x * x\n",
        "\n",
        "numbers = [1, 2, 3, 4, 5]\n",
        "\n",
        "# Apply 'square' to each item in the list\n",
        "result = map(square, numbers)\n",
        "\n",
        "print(list(result))  # Output: [1, 4, 9, 16, 25]\n"
      ],
      "metadata": {
        "id": "egelHbj13Osa"
      },
      "execution_count": null,
      "outputs": []
    },
    {
      "cell_type": "markdown",
      "source": [
        "11. Using pen & Paper write the internal mechanism for sum operation using  reduce function on this given\n",
        "list:[47,11,42,13];"
      ],
      "metadata": {
        "id": "x4PpyLeC3WNp"
      }
    },
    {
      "cell_type": "markdown",
      "source": [
        "The reduce function is a part of Python's functools module and is used to apply a binary function (a function that takes two arguments) cumulatively to the items of an iterable (like a list) to reduce it to a single value.\n",
        "\n",
        "In the case of summing a list, the binary function would be addition, and the reduce function would apply this addition operation cumulatively across the elements in the list.\n",
        "\n",
        "Here’s how the internal mechanism works step-by-step for the given list [47, 11, 42, 13]:\n",
        "\n",
        "Initial List: [47, 11, 42, 13]\n",
        "\n",
        "Initial Value: The reduce function will start with the first two elements of the list, 47 and 11.\n",
        "\n",
        "Step 1: Add 47 and 11:\n",
        "\n",
        "47 + 11 = 58\n",
        "\n",
        "Now the result is 58, and the list becomes [58, 42, 13].\n",
        "\n",
        "Step 2: Now, the result (58) is added to the next element (42).\n",
        "\n",
        "Step 2: Add 58 and 42:\n",
        "\n",
        "58 + 42 = 100\n",
        "\n",
        "Now the result is 100, and the list becomes [100, 13].\n",
        "\n",
        "Step 3: Finally, the result (100) is added to the last element (13).\n",
        "\n",
        "Step 3: Add 100 and 13:\n",
        "\n",
        "100 + 13 = 113\n",
        "\n",
        "Now the result is 113, and the list is empty.\n",
        "\n",
        "Final Result: The sum of the elements in the list is 113.Mechanism in Pen & Paper Steps:\n",
        "Start with the list: [47, 11, 42, 13].\n",
        "\n",
        "Apply the binary function (addition) cumulatively:\n",
        "\n",
        "47 + 11 = 58\n",
        "\n",
        "58 + 42 = 100\n",
        "\n",
        "100 + 13 = 113\n",
        "\n",
        "Final sum: 113\n",
        "\n",
        "Code Representation:\n",
        "python\n",
        "Copy\n"
      ],
      "metadata": {
        "id": "0e8ocGTw3wqY"
      }
    },
    {
      "cell_type": "code",
      "source": [
        "from functools import reduce\n",
        "\n",
        "numbers = [47, 11, 42, 13]\n",
        "result = reduce(lambda x, y: x + y, numbers)\n",
        "print(result)  # Output: 113\n"
      ],
      "metadata": {
        "id": "r8Nyix1R4Sol"
      },
      "execution_count": null,
      "outputs": []
    },
    {
      "cell_type": "markdown",
      "source": [
        "1. Write a Python function that takes a list of numbers as input and returns the sum of all even numbers in\n",
        "the list."
      ],
      "metadata": {
        "id": "kvLdW4t64WDD"
      }
    },
    {
      "cell_type": "code",
      "source": [
        "def sum_of_even_numbers(numbers):\n",
        "    # Initialize a variable to hold the sum of even numbers\n",
        "    total = 0\n",
        "\n",
        "    # Loop through each number in the list\n",
        "    for num in numbers:\n",
        "        # Check if the number is even\n",
        "        if num\n"
      ],
      "metadata": {
        "id": "nvjxl2v54trY"
      },
      "execution_count": null,
      "outputs": []
    },
    {
      "cell_type": "code",
      "source": [],
      "metadata": {
        "id": "OoPl6IVB4uNd"
      },
      "execution_count": null,
      "outputs": []
    },
    {
      "cell_type": "markdown",
      "source": [
        "2. Create a Python function that accepts a string and returns the reverse of that string."
      ],
      "metadata": {
        "id": "TMb1RSKl4uma"
      }
    },
    {
      "cell_type": "code",
      "source": [
        "def reverse_string(s):\n",
        "    # Return the reversed string using slicing\n",
        "    return s[::-1]\n",
        "\n",
        "# Example usage:\n",
        "input_string = \"Hello, world!\"\n",
        "reversed_string = reverse_string(input_string)\n",
        "print(reversed_string)  # Output: \"!dlrow ,olleH\"\n"
      ],
      "metadata": {
        "id": "COdPahhY43FZ"
      },
      "execution_count": null,
      "outputs": []
    },
    {
      "cell_type": "markdown",
      "source": [
        "3. Implement a Python function that takes a list of integers and returns a new list containing the squares of\n",
        "each number."
      ],
      "metadata": {
        "id": "FJalGGHE436A"
      }
    },
    {
      "cell_type": "code",
      "source": [
        "def square_numbers(numbers):\n",
        "    # Use list comprehension to create a new list with squares of each number\n",
        "    return [num ** 2 for num in numbers]\n",
        "\n",
        "# Example usage:\n",
        "input_list = [1, 2, 3, 4, 5]\n",
        "squared_list = square_numbers(input_list)\n",
        "print(squared_list)  # Output: [1, 4, 9, 16, 25]\n"
      ],
      "metadata": {
        "id": "B-4MeKa35Bkv"
      },
      "execution_count": null,
      "outputs": []
    },
    {
      "cell_type": "markdown",
      "source": [
        "4. Write a Python function that checks if a given number is prime or not from 1 to 200."
      ],
      "metadata": {
        "id": "Oa7WLcKl5DBd"
      }
    },
    {
      "cell_type": "code",
      "source": [
        "import math\n",
        "\n",
        "def is_prime(n):\n",
        "    # Handle numbers less than 2\n",
        "    if n <= 1:\n",
        "        return False\n",
        "\n",
        "    # Check for factors from 2 to the square root of n\n",
        "    for i in range(2, int(math.sqrt(n)) + 1):\n",
        "        if n % i == 0:\n",
        "            return False  # n is divisible by i, so it's not prime\n",
        "\n",
        "    return True  # n is prime if no divisors were found\n",
        "\n",
        "# Example usage:\n",
        "for num in range(1, 201):\n",
        "    if is_prime(num):\n",
        "        print(num, \"is prime\")\n"
      ],
      "metadata": {
        "id": "kUKsceCj5HBt"
      },
      "execution_count": null,
      "outputs": []
    },
    {
      "cell_type": "markdown",
      "source": [
        "5. Create an iterator class in Python that generates the Fibonacci sequence up to a specified number of\n",
        "terms."
      ],
      "metadata": {
        "id": "rZ8o7KAo5MbS"
      }
    },
    {
      "cell_type": "code",
      "source": [
        "class FibonacciIterator:\n",
        "    def __init__(self, n_terms):\n",
        "        # Initialize the number of terms and the first two Fibonacci numbers\n",
        "        self.n_terms = n_terms\n",
        "        self.current = 0  # First Fibonacci number\n",
        "        self.next_value = 1  # Second Fibonacci_\n"
      ],
      "metadata": {
        "id": "ByrYe2X45ao7"
      },
      "execution_count": null,
      "outputs": []
    },
    {
      "cell_type": "markdown",
      "source": [
        "6. Write a generator function in Python that yields the powers of 2 up to a given exponent."
      ],
      "metadata": {
        "id": "tPylZJdo5brD"
      }
    },
    {
      "cell_type": "code",
      "source": [
        "def powers_of_2(exponent):\n",
        "    # Generate powers of 2 from 0 to the given exponent\n",
        "    for i in range(exponent + 1):\n",
        "        yield 2 ** i\n",
        "\n",
        "# Example usage:\n",
        "exponent = 5  # The maximum exponent value\n",
        "for power in powers_of_2(exponent):\n",
        "    print(power)\n"
      ],
      "metadata": {
        "id": "1p5ZJHx_5lo1"
      },
      "execution_count": null,
      "outputs": []
    },
    {
      "cell_type": "markdown",
      "source": [
        "7. Implement a generator function that reads a file line by line and yields each line as a string."
      ],
      "metadata": {
        "id": "m-5OF_KY5nY1"
      }
    },
    {
      "cell_type": "code",
      "source": [
        "def read_file_line_by_line(file_path):\n",
        "    # Open the file in read mode\n",
        "    with open(file_path, 'r') as file:\n",
        "        # Yield each line from the file one by one\n",
        "        for line in file:\n",
        "            yield line.strip()  # Use strip() to remove trailing newline characters\n",
        "\n",
        "# Example usage:\n",
        "file_path = 'sample.txt'  # Path to the file you want to read\n",
        "\n",
        "# Iterate through the lines of the file\n",
        "for line in read_file_line_by_line(file_path):\n",
        "    print(line)\n"
      ],
      "metadata": {
        "id": "wVBK8MjE5uP3"
      },
      "execution_count": null,
      "outputs": []
    },
    {
      "cell_type": "markdown",
      "source": [
        "8. Use a lambda function in Python to sort a list of tuples based on the second element of each tuple."
      ],
      "metadata": {
        "id": "AXto4z1k5vPa"
      }
    },
    {
      "cell_type": "code",
      "source": [
        "# List of tuples\n",
        "tuples_list = [(1, 3), (4, 1), (2, 2), (5, 0)]\n",
        "\n",
        "# Sort the list of tuples based on the second element of each tuple\n",
        "sorted_list = sorted(tuples_list, key=lambda x: x[1])\n",
        "\n",
        "# Print the sorted list\n",
        "print(sorted_list)\n"
      ],
      "metadata": {
        "id": "JjXaBbcA53Dm"
      },
      "execution_count": null,
      "outputs": []
    },
    {
      "cell_type": "markdown",
      "source": [
        "9. Write a Python program that uses `map()` to convert a list of temperatures from Celsius to Fahrenheit."
      ],
      "metadata": {
        "id": "JwzHJkp9530S"
      }
    },
    {
      "cell_type": "code",
      "source": [
        "# List of temperatures in Celsius\n",
        "celsius_temperatures = [0, 20, 30, 40, 100]\n",
        "\n",
        "# Function to convert Celsius to Fahrenheit\n",
        "def celsius_to_fahrenheit(celsius):\n",
        "    return (celsius * 9/5) + 32\n",
        "\n",
        "# Use map to apply the conversion function to each element in the list\n",
        "fahrenheit_temperatures = list(map(celsius_to_fahrenheit, celsius_temperatures))\n",
        "\n",
        "# Print the result\n",
        "print(fahrenheit_temperatures)\n"
      ],
      "metadata": {
        "id": "MFyN4yDK5-6R"
      },
      "execution_count": null,
      "outputs": []
    },
    {
      "cell_type": "markdown",
      "source": [
        "10. Create a Python program that uses `filter()` to remove all the vowels from a given string."
      ],
      "metadata": {
        "id": "0X_MmE3q5_61"
      }
    },
    {
      "cell_type": "code",
      "source": [
        "# Function to check if a character is a vowel\n",
        "def is_not_vowel(char):\n",
        "    return char.lower() not in 'aeiou'\n",
        "\n",
        "# Given string\n",
        "input_string = \"Hello, World!\"\n",
        "\n",
        "# Use filter to remove vowels from the string\n",
        "filtered_string = ''.join(filter(is_not_vowel, input_string))\n",
        "\n",
        "# Print the result\n",
        "print(filtered_string)\n"
      ],
      "metadata": {
        "id": "FAfSnAaD6IWL"
      },
      "execution_count": null,
      "outputs": []
    },
    {
      "cell_type": "markdown",
      "source": [
        "11.magine an accounting routine used in a book shop. It works on a list with sublists, which look like this:"
      ],
      "metadata": {
        "id": "ZpHKth9t6JSm"
      }
    },
    {
      "cell_type": "code",
      "source": [
        "# Example of accounting routine for a book shop\n",
        "\n",
        "# Transactions list (each transaction is a sublist with details)\n",
        "transactions = [\n",
        "    # [Date, Type of Transaction, Book Title, Quantity, Price per Book, Total Amount, Payment Method]\n",
        "\n",
        "    # Book Sale Transactions\n",
        "    ['2025-03-01', 'Sale', 'The Great Gatsby', 3, 12.99, 38.97, 'Credit Card'],\n",
        "    ['2025-03-01', 'Sale', 'To Kill a Mockingbird', 2, 10.50, 21.00, 'Cash'],\n",
        "\n",
        "    # Purchase of books from supplier\n",
        "    ['2025-03-02', 'Purchase', '1984', 10, 8.00, 80.00, 'Bank Transfer'],\n",
        "    ['2025-03-02', 'Purchase', 'Pride and Prejudice', 5, 6.75, 33.75, 'Bank Transfer'],\n",
        "\n",
        "    # Sales return\n",
        "    ['2025-03-03', 'Return', 'The Great Gatsby', 1, 12.99, 12.99, 'Credit Card'],\n",
        "\n",
        "    # Miscellaneous expenses (for accounting of shop running costs)\n",
        "    ['2025-03-04', 'Expense', 'Electricity Bill', 1, 100.00, 100.00, 'Bank Transfer'],\n",
        "    ['2025-03-04', 'Expense', 'Stationery Supplies', 1, 25.50, 25.50, 'Cash']\n",
        "]\n",
        "\n",
        "# Example of processing the transactions\n",
        "total_sales = 0\n",
        "total_expenses = 0\n",
        "total_purchases = 0\n",
        "\n",
        "for transaction in transactions:\n",
        "    transaction_type = transaction[1]\n",
        "    total_amount = transaction[5]\n",
        "\n",
        "    if transaction_type == 'Sale':\n",
        "        total_sales += total_amount\n",
        "    elif transaction_type == 'Purchase':\n",
        "        total_purchases += total_amount\n",
        "    elif transaction_type == 'Expense':\n",
        "        total_expenses += total_amount\n",
        "\n",
        "# Accounting summary\n",
        "net_profit = total_sales - total_expenses - total_purchases\n",
        "accounting_summary = {\n",
        "    'Total Sales': total_sales,\n",
        "    'Total Purchases': total_purchases,\n",
        "    'Total Expenses': total_expenses,\n",
        "    'Net Profit': net_profit\n",
        "}\n",
        "\n",
        "print(accounting_summary)\n"
      ],
      "metadata": {
        "id": "AZuUHWBT-8-P"
      },
      "execution_count": null,
      "outputs": []
    }
  ]
}